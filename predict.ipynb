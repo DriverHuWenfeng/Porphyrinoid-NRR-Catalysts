{
 "cells": [
  {
   "cell_type": "code",
   "execution_count": 1,
   "id": "d12c22cf-8890-4976-8e78-4002f4eb58d4",
   "metadata": {},
   "outputs": [],
   "source": [
    "import torch\n",
    "import numpy as np\n",
    "import pandas as pd\n",
    "from sklearn.model_selection import train_test_split\n",
    "from sklearn.preprocessing import StandardScaler\n",
    "from sklearn.impute import SimpleImputer\n",
    "from sklearn.svm import SVR\n",
    "from sklearn.linear_model import LinearRegression\n",
    "from sklearn.tree import DecisionTreeRegressor\n",
    "from sklearn.ensemble import RandomForestRegressor, GradientBoostingRegressor\n",
    "from sklearn.neural_network import MLPRegressor\n",
    "from sklearn.metrics import mean_squared_error"
   ]
  },
  {
   "cell_type": "code",
   "execution_count": 2,
   "id": "d720fc9d-cae0-4edd-9a08-694a6653311b",
   "metadata": {},
   "outputs": [],
   "source": [
    "data = pd.read_csv(r'training_set-411.csv')\n",
    "#data = data.drop(columns=['electrons'])\n",
    "X = data.iloc[:, 0:-5] \n",
    "y = data.iloc[:,-5:]\n",
    "# X.replace('none', np.nan, inplace=True)\n",
    "symbol_columns = ['base', 'TM', 'modifications_ring', 'modifications_chain', 'Conjugate_structure','period','group_id']\n",
    "for column in symbol_columns:\n",
    "    X[column], _ = pd.factorize(X[column])\n",
    "\n",
    "for column in X.keys():\n",
    "    X[column] = (X[column] - X[column].mean()) / X[column].std()\n",
    "# imputer = SimpleImputer(strategy='mean')\n",
    "# data_filled = pd.DataFrame(imputer.fit_transform(X), columns=X.columns)"
   ]
  },
  {
   "cell_type": "code",
   "execution_count": 4,
   "id": "e384b7cd-7bf5-40bf-897e-eebebdedf21d",
   "metadata": {},
   "outputs": [],
   "source": [
    "testdata = pd.read_csv(r'all_structure.csv')\n",
    "# valdata = valdata.drop(columns=['num','KPOINTS','E-opt'])\n",
    "# X.replace('none', np.nan, inplace=True)\n",
    "testdata = testdata[testdata['traning_data'].isnull()]\n",
    "result = testdata\n",
    "symbol_columns = ['base', 'TM', 'modifications_ring', 'modifications_chain', 'Conjugate_structure','period','group_id']\n",
    "testdata = testdata.drop(columns=['num','KPOINTS','E-opt', 'traning_data','name'])\n",
    "testdata = testdata.dropna()\n",
    "for column in symbol_columns:\n",
    "    testdata[column], _ = pd.factorize(testdata[column])\n",
    "for column in testdata.keys():\n",
    "    testdata[column] = (testdata[column] - testdata[column].mean()) / testdata[column].std()\n",
    "\n",
    "#r1<-0.4~r2;\n",
    "#r3<-0.4~r4;\n",
    "#r2|r4<0.4~r5"
   ]
  },
  {
   "cell_type": "code",
   "execution_count": 5,
   "id": "388d3cc9-6551-48a3-9ed0-605131fc9cab",
   "metadata": {},
   "outputs": [
    {
     "name": "stdout",
     "output_type": "stream",
     "text": [
      "ΔEN2(end-on) as label\n",
      "Gradient Boosting Regression Mean Squared Error:  0.028953094127172226\n",
      "ΔGN2H(end-on) as label\n",
      "Gradient Boosting Regression Mean Squared Error:  0.024707082433029007\n",
      "ΔEN2(side-on) as label\n",
      "Gradient Boosting Regression Mean Squared Error:  0.05615984038977376\n",
      "ΔGN2H(side-on) as label\n",
      "Gradient Boosting Regression Mean Squared Error:  0.0591921868814992\n",
      "ΔGNH3 as label\n",
      "Gradient Boosting Regression Mean Squared Error:  0.03268849263087953\n"
     ]
    }
   ],
   "source": [
    "for i in range(5):\n",
    "    print(y.columns[i], \"as label\")\n",
    "    data1 = pd.concat([X, y.iloc[:,i]], axis=1)\n",
    "    # 删除含有缺失标签的样本\n",
    "    data_cleaned = data1.dropna(subset=[data1.columns[-1]])\n",
    "    # 分离特征和标签\n",
    "    X_cleaned = data_cleaned.iloc[:, :-1]  # 取前n-1列为特征\n",
    "    y_cleaned = data_cleaned.iloc[:,-1]  # 取最后一列为标签\n",
    "    X_train, X_val, y_train, y_val = train_test_split(X_cleaned, y_cleaned, test_size=0.2, random_state=42)\n",
    "    # 初始化梯度提升回归模型\n",
    "    # gb = RandomForestRegressor(max_depth = 20, min_samples_leaf = 1, min_samples_split = 2, n_estimators = 50)\n",
    "    #{'max_depth': 20, 'min_samples_leaf': 1, 'min_samples_split': 2, 'n_estimators': 50}\n",
    "    \n",
    "    gb = GradientBoostingRegressor(learning_rate = 0.1, n_estimators = 50)  \n",
    "    #0{'learning_rate': 0.1, 'n_estimators': 50}\n",
    "    #1{'learning_rate': 0.01, 'n_estimators': 200}\n",
    "    #3{'learning_rate': 0.1, 'n_estimators': 50}\n",
    "    #{'learning_rate': 0.1, 'n_estimators': 50}\n",
    "\n",
    "    # 拟合模型\n",
    "    gb.fit(X_train, y_train)\n",
    "    # 在测试集上做预测\n",
    "    y_pred = gb.predict(X_val)\n",
    "    # 评估模型性能\n",
    "    mse = mean_squared_error(y_val, y_pred)\n",
    "    testvalue = gb.predict(testdata)\n",
    "    result[y.columns[i]] = testvalue\n",
    "    print(\"Gradient Boosting Regression Mean Squared Error: \", mse)"
   ]
  },
  {
   "cell_type": "code",
   "execution_count": 6,
   "id": "59ed872a-e104-4d67-8567-5633b1857428",
   "metadata": {},
   "outputs": [],
   "source": [
    "result['Flag'] = 0\n",
    "filtered_df = result[(result.iloc[:,-5].astype(float) < -0.4) & (result.iloc[:,-3].astype(float) < -0.4) & ((result.iloc[:,-4].astype(float) < 0.4) | (result.iloc[:,-2].astype(float) < 0.4))]\n",
    "result.loc[(result.iloc[:,-5].astype(float) < -0.4) & (result.iloc[:,-3].astype(float) < -0.4) & ((result.iloc[:,-4].astype(float) < 0.4) | (result.iloc[:,-2].astype(float) < 0.4)), 'Flag'] = 1"
   ]
  },
  {
   "cell_type": "code",
   "execution_count": 7,
   "id": "021e95af-abda-4860-ab5b-d3b275a031be",
   "metadata": {},
   "outputs": [],
   "source": [
    "result.to_csv('result.csv', index=False)"
   ]
  }
 ],
 "metadata": {
  "kernelspec": {
   "display_name": "Python 3 (ipykernel)",
   "language": "python",
   "name": "python3"
  },
  "language_info": {
   "codemirror_mode": {
    "name": "ipython",
    "version": 3
   },
   "file_extension": ".py",
   "mimetype": "text/x-python",
   "name": "python",
   "nbconvert_exporter": "python",
   "pygments_lexer": "ipython3",
   "version": "3.8.18"
  }
 },
 "nbformat": 4,
 "nbformat_minor": 5
}
